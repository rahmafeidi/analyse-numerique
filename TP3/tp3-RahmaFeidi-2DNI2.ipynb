{
 "cells": [
  {
   "cell_type": "markdown",
   "metadata": {},
   "source": [
    "<h3> <span text_align=\"center\" style=\"color:green\">Compte Rendu TP3  <span><h3>\n",
    "\n"
   ]
  },
  {
   "cell_type": "markdown",
   "metadata": {},
   "source": [
    "<img src=\"img/general.gif\">"
   ]
  },
  {
   "cell_type": "markdown",
   "metadata": {},
   "source": [
    "<h3> <span style=\"color:blue\">importation des bibliothéques <span><h3>"
   ]
  },
  {
   "cell_type": "code",
   "execution_count": 2,
   "metadata": {},
   "outputs": [],
   "source": [
    " #matplotlib widget\n",
    "import math\n",
    "import numpy as np\n",
    "from numpy import *\n",
    "import matplotlib.pyplot as plt\n",
    "from ipywidgets import interact, interactive, fixed, interact_manual, widgets"
   ]
  },
  {
   "cell_type": "markdown",
   "metadata": {},
   "source": [
    "<h3> <span style=\"color:blue\">classe de la methode des Rectangles <span><h3>"
   ]
  },
  {
   "cell_type": "markdown",
   "metadata": {},
   "source": [
    "<img src=\"img/rect.gif\">"
   ]
  },
  {
   "cell_type": "code",
   "execution_count": 15,
   "metadata": {},
   "outputs": [],
   "source": [
    "class Rectangle ( object ) :\n",
    "    def __init__ (self , a , b , n , f ) :\n",
    "        self.a = a\n",
    "        self.b = b\n",
    "        self.x = np.linspace( a , b , n+1 )\n",
    "        self.f = f\n",
    "        self.n = n\n",
    "    def integrate ( self , f ) :\n",
    "        x= self.x\n",
    "        y= f( x )\n",
    "        h = float( x[1] - x[0] )\n",
    "        s = sum( y[ 0 : -1 ] )\n",
    "        return h * s\n",
    "    def Graph ( self , f , resolution =1001 ) :\n",
    "        xl = self.x\n",
    "        yl = f(xl)\n",
    "        xlist_fine =np.linspace( self.a , self.b , resolution )\n",
    "        for i in range ( self.n ) :\n",
    "            x_rect = [xl[ i ] , xl[ i ] , xl[ i + 1 ] , xl[i+1] , xl[ i ] ] # abscisses des sommets\n",
    "            y_rect = [0 , yl[ i ] , yl[ i ] , 0 , 0 ] # ordonnees des sommets\n",
    "            plt.plot ( x_rect , y_rect , 'r' )\n",
    "        yflist_fine = f ( xlist_fine )\n",
    "        plt.plot ( xlist_fine , yflist_fine )\n",
    "        plt.plot(xl, yl,\"bo\")\n",
    "        plt.xlabel ( 'x' )\n",
    "        plt.ylabel ( ' f ( x ) ' )\n",
    "        plt.title ( ' Methode des rectangles' )\n",
    "        plt.text( 0.5*( self.a+ self.b ) , f(self.b ) , 'I_{} ={:0.8f}'.format(self.n,self.integrate( f ) ) , fontsize =15 )\n",
    "\n",
    "    "
   ]
  },
  {
   "cell_type": "markdown",
   "metadata": {},
   "source": [
    "<h3> <span style=\"color:blue\">classe de la Methode des Trapézes <span><h3>"
   ]
  },
  {
   "cell_type": "markdown",
   "metadata": {},
   "source": [
    "<img src=\"img/trape.gif\">"
   ]
  },
  {
   "cell_type": "code",
   "execution_count": 4,
   "metadata": {},
   "outputs": [],
   "source": [
    "class Trapeze(object):\n",
    "    def __init__(self, a, b, n, f):\n",
    "        self.a = a\n",
    "        self.b = b\n",
    "        self.x = np.linspace(a, b, n+1)\n",
    "        self.f = f\n",
    "        self.n = n\n",
    "    def integrate(self,f):\n",
    "        x=self.x\n",
    "        y=f(x)\n",
    "        h = float(x[1] - x[0])\n",
    "        s = y[0] + y[-1] + 2.0*sum(y[1:-1])\n",
    "        return h * s / 2.0\n",
    "    def Graph(self,f,resolution=10000):\n",
    "        xl = self.x\n",
    "        yl = f(xl)\n",
    "        xlist_fine=np.linspace(self.a, self.b, resolution)\n",
    "        for i in range(self.n):\n",
    "            x_rect = [xl[i], xl[i], xl[i+1], xl[i+1], xl[i]] # abscisses des sommets\n",
    "            y_rect = [0   , yl[i], yl[i+1]  , 0     , 0   ] # ordonnees des sommets\n",
    "            plt.plot(x_rect, y_rect,\"m\")\n",
    "        yflist_fine = f(xlist_fine)\n",
    "        plt.plot(xlist_fine, yflist_fine)#plot de f(x)\n",
    "        plt.plot(xl, yl,\"cs\")#point support\n",
    "        plt.ylabel ( ' f ( x ) ' )\n",
    "        plt.title('Methode des Trapézes, N = {}'.format(self.n))\n",
    "        plt.text( 0.5*( self.a+ self.b ) , f(self.b ) , 'I_{} ={:0.8f}'.format(self.n,self.integrate( f ) ) , fontsize =15 )"
   ]
  },
  {
   "cell_type": "markdown",
   "metadata": {},
   "source": [
    "<h3><span style=\"color:blue\">classe de la methode de Simpson<span><h3>"
   ]
  },
  {
   "cell_type": "markdown",
   "metadata": {},
   "source": [
    "<img src=\"img/simpson.gif\">"
   ]
  },
  {
   "cell_type": "code",
   "execution_count": 5,
   "metadata": {},
   "outputs": [],
   "source": [
    "class Simpson ( object ) :\n",
    "    def __init__ (self , a , b , n , f ) :\n",
    "        self.a = a\n",
    "        self.b = b\n",
    "        self.x = np.linspace( a , b , n+1 )\n",
    "        self.f = f\n",
    "        self.n = n\n",
    "    def integrate ( self , f ) :\n",
    "        \n",
    "        if self.n % 2 == 1:\n",
    "            raise ValueError(\"N doit étre paire ! \")\n",
    "        dx = (self.b-self.a)/self.n\n",
    "        x = np.linspace(self.a,self.b,self.n+1)\n",
    "        y = f(x)\n",
    "        S = dx/3 * np.sum(y[0:-1:2] + 4*y[1::2] + y[2::2])\n",
    "        return S\n",
    "        \n",
    "    def Graph ( self , f , resolution =1001 ) :\n",
    "        xl = self.x\n",
    "        yl = f(xl)\n",
    "        xlist_fine =np.linspace( self.a , self.b , resolution )\n",
    "        for i in range ( self.n ) :\n",
    "            x_rect = [xl[ i ] , xl[ i ]] # abscisses des sommets\n",
    "            y_rect = [0 , yl[ i ]] # ordonnees des sommets\n",
    "            plt.plot ( x_rect , y_rect , 'r' )\n",
    "        yflist_fine = f ( xlist_fine )\n",
    "        plt.plot ( xlist_fine , yflist_fine )\n",
    "        plt.plot(xl, yl,\"bo\")\n",
    "        plt.xlabel ( 'x' )\n",
    "        plt.ylabel ( ' f ( x ) ' )\n",
    "        plt.title('Methode de Simpson, N = {}'.format(self.n))\n",
    "        plt.text( 0.5*( self.a + self.b ) , f(self.b ) , 'I_{} ={:0.8f}'.format(self.n,self.integrate( f ) ) , fontsize =15 )"
   ]
  },
  {
   "cell_type": "markdown",
   "metadata": {},
   "source": [
    "<h3><span style=\"color:blue\"> classe de la methode du Point Milieu <span> <h3>"
   ]
  },
  {
   "cell_type": "markdown",
   "metadata": {},
   "source": [
    "<img src=\"img/midpt.gif\">"
   ]
  },
  {
   "cell_type": "code",
   "execution_count": 6,
   "metadata": {},
   "outputs": [],
   "source": [
    "class Point_milieu(object):\n",
    "    def __init__(self, a, b, n, f):\n",
    "        self.a = a\n",
    "        self.b = b\n",
    "        self.x = np.linspace(a, b, n+1)\n",
    "        self.f = f\n",
    "        self.n = n\n",
    "    def integrate(self,f):\n",
    "        h = float(self.b-self.a)/self.n\n",
    "        result = 0\n",
    "        for i in range(self.n):\n",
    "            result += f((self.a + h/2.0) + i*h)\n",
    "        result *= h\n",
    "        return result\n",
    "    def Graph(self,f,resolution=100000):\n",
    "        N=self.n\n",
    "        x = np.linspace(self.a,self.b,N+1)\n",
    "        y = f(x)\n",
    "\n",
    "        X = np.linspace(self.a,self.b,self.n*N+1)\n",
    "        Y = f(X)\n",
    "\n",
    "        plt.plot(X,Y,'b')\n",
    "        x_mid = (x[:-1] + x[1:])/2 \n",
    "        y_mid = f(x_mid)\n",
    "        plt.plot(x_mid,y_mid,'b.',markersize=10)\n",
    "        plt.bar(x_mid,y_mid,width=(self.b-self.a)/N,alpha=0.2,edgecolor='b')\n",
    "        plt.title('Methode Point Milieu, N = {}'.format(self.n))\n",
    "        plt.ylabel ( ' f ( x ) ' )\n",
    "        plt.text( 0.5*( self.a+ self.b ) , f(self.b ) , 'I_{} ={:0.8f}'.format(self.n,self.integrate( f ) ) , fontsize =15 )"
   ]
  },
  {
   "cell_type": "markdown",
   "metadata": {},
   "source": [
    "<h3><span style=\"color:blue\"> Simulation de 4 méthodes <span> <h3>"
   ]
  },
  {
   "cell_type": "code",
   "execution_count": 7,
   "metadata": {},
   "outputs": [],
   "source": [
    "\n",
    "def simule(n,f,a,b):\n",
    "    \n",
    "    R=Rectangle(a,b,n,f)\n",
    "    \n",
    "    plt.subplot(2,2,1)\n",
    "    R.Graph(f) \n",
    "    T=Trapeze(a,b,n,f)\n",
    "    plt.subplot(2,2,2)    \n",
    "    T.Graph(f)\n",
    "    M=Point_milieu(a,b,n,f)\n",
    "    plt.subplot(2,2,3)\n",
    "    M.Graph(f)\n",
    "    \n",
    "    if n%2 == 0: #Il faut que N soit paire !\n",
    "        S=Simpson(a,b,n,f)\n",
    "        plt.subplot(2,2,4)\n",
    "        S.Graph(f)\n",
    "    else:\n",
    "        plt.subplot(a,b,n,f)\n",
    "        plt.text( 0.5*(-1+1 ) , f(1), \" Simpson est indesponible car N={} est impaire\".format(n), fontsize =15,color=\"red\" )\n",
    "        \n",
    "    plt.show()"
   ]
  },
  {
   "cell_type": "code",
   "execution_count": 8,
   "metadata": {},
   "outputs": [
    {
     "data": {
      "text/plain": [
       "<Figure size 1080x720 with 0 Axes>"
      ]
     },
     "metadata": {},
     "output_type": "display_data"
    }
   ],
   "source": [
    "output = widgets.Output()\n",
    "x = np.linspace(0, 2 * np.pi, 100)\n",
    "with output:\n",
    "    fig= plt.figure(figsize=(15,10))\n",
    "fig.canvas.toolbar_position = 'bottom'"
   ]
  },
  {
   "cell_type": "code",
   "execution_count": 9,
   "metadata": {},
   "outputs": [],
   "source": [
    "int_slider = widgets.IntSlider(value=2, min=1, max=50, step=1, description='Choisir N')\n",
    "function = widgets.Dropdown(options={'1/(1+x**2)':lambda x:1/(1+x**2),\n",
    "                                   'x**2-x+5':lambda x:x**2-x+5,\n",
    "                                   'x**2':lambda x:x**2,\n",
    "                                   'x**3':lambda x:x**3,\n",
    "                                   'tang(x)':lambda x:tan(x),\n",
    "                                   'arctang(x)':lambda x:arctan(x),\n",
    "                                    'sin(x)':lambda x: sin(x),\n",
    "                                    'cos(x)':lambda x:cos(x)},description='fonction')      \n",
    "text_a = widgets.IntText(value=-1,description='Valeur de a', continuous_update=False)\n",
    "text_b = widgets.IntText(value=1,description='Valeur de b', continuous_update=False)\n",
    "button = widgets.Button(description=\"Afficher\")"
   ]
  },
  {
   "cell_type": "code",
   "execution_count": 10,
   "metadata": {},
   "outputs": [],
   "source": [
    "def on_button_clicked(b):\n",
    "    with output:\n",
    "        fig.clear()\n",
    "        simule(int_slider.value,function.value,text_a.value,text_b.value)"
   ]
  },
  {
   "cell_type": "code",
   "execution_count": 11,
   "metadata": {},
   "outputs": [
    {
     "data": {
      "application/vnd.jupyter.widget-view+json": {
       "model_id": "c3656a3e097d4726b04202299ca89e8e",
       "version_major": 2,
       "version_minor": 0
      },
      "text/plain": [
       "HBox(children=(VBox(children=(IntSlider(value=2, description='Choisir N', max=50, min=1), Dropdown(description…"
      ]
     },
     "metadata": {},
     "output_type": "display_data"
    }
   ],
   "source": [
    "\n",
    "controls = widgets.VBox([int_slider,function,text_a,text_b,button])\n",
    "button.on_click(on_button_clicked)\n",
    "widgets.HBox([controls, output])"
   ]
  },
  {
   "cell_type": "code",
   "execution_count": null,
   "metadata": {},
   "outputs": [],
   "source": []
  }
 ],
 "metadata": {
  "kernelspec": {
   "display_name": "Python 3",
   "language": "python",
   "name": "python3"
  },
  "language_info": {
   "codemirror_mode": {
    "name": "ipython",
    "version": 3
   },
   "file_extension": ".py",
   "mimetype": "text/x-python",
   "name": "python",
   "nbconvert_exporter": "python",
   "pygments_lexer": "ipython3",
   "version": "3.8.3"
  }
 },
 "nbformat": 4,
 "nbformat_minor": 4
}
